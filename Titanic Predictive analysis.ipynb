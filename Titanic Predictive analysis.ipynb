{
  "nbformat": 4,
  "nbformat_minor": 0,
  "metadata": {
    "colab": {
      "provenance": []
    },
    "kernelspec": {
      "name": "python3",
      "display_name": "Python 3"
    },
    "language_info": {
      "name": "python"
    }
  },
  "cells": [
    {
      "cell_type": "code",
      "execution_count": null,
      "metadata": {
        "id": "lm60sqbeLbA2"
      },
      "outputs": [],
      "source": [
        "import numpy as np\n",
        "import pandas as pd\n",
        "import matplotlib.pyplot as plt\n",
        "from sklearn import tree\n",
        "from sklearn.metrics import confusion_matrix\n",
        "from sklearn.ensemble import AdaBoostClassifier\n",
        "import xgboost as xgb\n"
      ]
    },
    {
      "cell_type": "code",
      "source": [
        "df=pd.read_csv('train.csv')\n",
        "df.head()\n",
        "df.isnull().sum()\n",
        "df=df.drop(['Name','PassengerId','Parch','SibSp','Cabin','Ticket','Embarked'],axis=1)\n",
        "print(df.head())"
      ],
      "metadata": {
        "colab": {
          "base_uri": "https://localhost:8080/"
        },
        "id": "R89dNKiaLlXO",
        "outputId": "5d3f9e54-f15b-4257-eef1-a948cbabf20e"
      },
      "execution_count": null,
      "outputs": [
        {
          "output_type": "stream",
          "name": "stdout",
          "text": [
            "   Survived  Pclass     Sex   Age     Fare\n",
            "0         0       3    male  22.0   7.2500\n",
            "1         1       1  female  38.0  71.2833\n",
            "2         1       3  female  26.0   7.9250\n",
            "3         1       1  female  35.0  53.1000\n",
            "4         0       3    male  35.0   8.0500\n"
          ]
        }
      ]
    },
    {
      "cell_type": "code",
      "source": [
        "#We can use K fold to get the best model but we have not implemeanted it over here"
      ],
      "metadata": {
        "id": "gMxesOZfL0re"
      },
      "execution_count": null,
      "outputs": []
    },
    {
      "cell_type": "code",
      "source": [
        "from sklearn.preprocessing import LabelEncoder\n",
        "abc_Sex=LabelEncoder()\n",
        "df['Sex_mno']=abc_Sex.fit_transform(df['Sex'])\n",
        "df['Sex']=df['Sex_mno']\n",
        "df=df.drop(['Sex_mno'],axis=1)\n",
        "print(df)"
      ],
      "metadata": {
        "colab": {
          "base_uri": "https://localhost:8080/"
        },
        "id": "aQ1Y2k3yL02P",
        "outputId": "03923689-40bf-4e57-a486-f5bd17a58cc9"
      },
      "execution_count": null,
      "outputs": [
        {
          "output_type": "stream",
          "name": "stdout",
          "text": [
            "     Survived  Pclass  Sex   Age     Fare\n",
            "0           0       3    1  22.0   7.2500\n",
            "1           1       1    0  38.0  71.2833\n",
            "2           1       3    0  26.0   7.9250\n",
            "3           1       1    0  35.0  53.1000\n",
            "4           0       3    1  35.0   8.0500\n",
            "..        ...     ...  ...   ...      ...\n",
            "886         0       2    1  27.0  13.0000\n",
            "887         1       1    0  19.0  30.0000\n",
            "888         0       3    0   NaN  23.4500\n",
            "889         1       1    1  26.0  30.0000\n",
            "890         0       3    1  32.0   7.7500\n",
            "\n",
            "[891 rows x 5 columns]\n"
          ]
        }
      ]
    },
    {
      "cell_type": "code",
      "source": [
        "from sklearn.impute import KNNImputer\n",
        "knn=KNNImputer(n_neighbors=3,add_indicator=True)\n",
        "temp=df[['Age']]\n",
        "knn.fit(temp)\n",
        "df['Age']=knn.transform(temp)\n",
        "df.isnull().sum()\n",
        "print(df)"
      ],
      "metadata": {
        "colab": {
          "base_uri": "https://localhost:8080/"
        },
        "id": "WcSpIza3L4ev",
        "outputId": "18139d95-a42a-45e4-e8f3-33f8d588dcc7"
      },
      "execution_count": null,
      "outputs": [
        {
          "output_type": "stream",
          "name": "stdout",
          "text": [
            "     Survived  Pclass  Sex        Age     Fare\n",
            "0           0       3    1  22.000000   7.2500\n",
            "1           1       1    0  38.000000  71.2833\n",
            "2           1       3    0  26.000000   7.9250\n",
            "3           1       1    0  35.000000  53.1000\n",
            "4           0       3    1  35.000000   8.0500\n",
            "..        ...     ...  ...        ...      ...\n",
            "886         0       2    1  27.000000  13.0000\n",
            "887         1       1    0  19.000000  30.0000\n",
            "888         0       3    0  29.699118  23.4500\n",
            "889         1       1    1  26.000000  30.0000\n",
            "890         0       3    1  32.000000   7.7500\n",
            "\n",
            "[891 rows x 5 columns]\n"
          ]
        }
      ]
    },
    {
      "cell_type": "code",
      "source": [
        "#Applying MinMax normalization\n",
        "from sklearn.preprocessing import MinMaxScaler\n",
        "scalar=MinMaxScaler()\n",
        "scalar.fit(df[['Age']])\n",
        "df['Age_n']=scalar.transform(df[['Age']])\n",
        "df['Age']=df['Age_n']\n",
        "scalar.fit(df[['Fare']])\n",
        "df['Fare_n']=scalar.transform(df[['Fare']])\n",
        "df['Fare']=df[\"Fare_n\"]\n",
        "df=df.drop(['Fare_n'],axis=1)\n",
        "\n",
        "df=df.drop(['Age_n'],axis=1)\n",
        "print(df.head())\n"
      ],
      "metadata": {
        "colab": {
          "base_uri": "https://localhost:8080/"
        },
        "id": "UiAo8OJ-L74S",
        "outputId": "04299282-f7d4-4409-c74a-1841510a35f7"
      },
      "execution_count": null,
      "outputs": [
        {
          "output_type": "stream",
          "name": "stdout",
          "text": [
            "   Survived  Pclass  Sex       Age      Fare\n",
            "0         0       3    1  0.271174  0.014151\n",
            "1         1       1    0  0.472229  0.139136\n",
            "2         1       3    0  0.321438  0.015469\n",
            "3         1       1    0  0.434531  0.103644\n",
            "4         0       3    1  0.434531  0.015713\n"
          ]
        }
      ]
    },
    {
      "cell_type": "code",
      "source": [
        "target=df[\"Survived\"]\n",
        "df=df.drop(['Survived'],axis=1)"
      ],
      "metadata": {
        "id": "lPFdM-IPL_qX"
      },
      "execution_count": null,
      "outputs": []
    },
    {
      "cell_type": "markdown",
      "source": [
        "**Fixing the imbalance problem by Undersampling**\n"
      ],
      "metadata": {
        "id": "1CQbdA03VL-3"
      }
    },
    {
      "cell_type": "code",
      "source": [
        "from sklearn.utils import resample\n",
        "majority_class = target\n",
        "minority_class = df\n",
        "\n",
        "# Undersample majority class\n",
        "majority_undersampled = resample(majority_class,\n",
        "                                 replace=False,  # sample without replacement\n",
        "                                 n_samples=len(minority_class),  # match minority class size\n",
        "                                 random_state=123)  # reproducible results\n",
        "\n",
        "# Combine minority class with undersampled majority class\n",
        "undersampled  = pd.concat([majority_undersampled, minority_class])"
      ],
      "metadata": {
        "id": "2ZVTAi3uU-zh"
      },
      "execution_count": null,
      "outputs": []
    },
    {
      "cell_type": "markdown",
      "source": [
        "**Fixing the imbalance problem by Oversampling or SMOTENC**\n"
      ],
      "metadata": {
        "id": "ZRRCXwYRNQsZ"
      }
    },
    {
      "cell_type": "code",
      "source": [
        "from imblearn.over_sampling import SMOTENC\n",
        "import numpy as np\n",
        "\n",
        "# Load the data\n",
        "X = df\n",
        "y = target\n",
        "\n",
        "# Define the categorical features\n",
        "categorical_features = [True, True, False, False]\n",
        "\n",
        "# Create the SMOTENC object\n",
        "smote = SMOTENC(categorical_features=categorical_features,random_state=123)\n",
        "\n",
        "# Oversample the data\n",
        "X_resampled, y_resampled = smote.fit_resample(X, y)\n",
        "\n",
        "# Print the class distribution before and after oversampling\n",
        "print(f'Before: {np.bincount(y)}')\n",
        "print(f'After: {np.bincount(y_resampled)}')\n",
        "\n"
      ],
      "metadata": {
        "id": "4jbYADpAXh7Q",
        "colab": {
          "base_uri": "https://localhost:8080/"
        },
        "outputId": "cac7b727-ccd8-4a10-cb67-2c94873d6ea1"
      },
      "execution_count": null,
      "outputs": [
        {
          "output_type": "stream",
          "name": "stdout",
          "text": [
            "Before: [549 342]\n",
            "After: [549 549]\n"
          ]
        }
      ]
    },
    {
      "cell_type": "code",
      "source": [
        "from sklearn.model_selection import train_test_split\n",
        "X_train,x_test,Y_train,y_test=train_test_split(X_resampled,y_resampled,test_size=0.3)"
      ],
      "metadata": {
        "id": "9EF2iWnNQ18W"
      },
      "execution_count": null,
      "outputs": []
    },
    {
      "cell_type": "code",
      "source": [
        "from sklearn.model_selection import GridSearchCV\n",
        "from sklearn import svm\n",
        "from sklearn.neighbors import (NeighborhoodComponentsAnalysis,KNeighborsClassifier)\n"
      ],
      "metadata": {
        "id": "S5ZOyCk8MDkO"
      },
      "execution_count": null,
      "outputs": []
    },
    {
      "cell_type": "markdown",
      "source": [
        "**HYPER PARAMETER TUNING**"
      ],
      "metadata": {
        "id": "pPIsEibLWA0D"
      }
    },
    {
      "cell_type": "code",
      "source": [
        "clf=GridSearchCV(svm.SVC(gamma='auto'),{'C':[1,5,10,20,30,50,100],'kernel':['rbf','linear']},cv=5,return_train_score=False)\n",
        "clf.fit(X_train,Y_train)\n",
        "df123=pd.DataFrame(clf.cv_results_)\n",
        "print(df123[['param_C','param_kernel','mean_test_score']])"
      ],
      "metadata": {
        "id": "4TC0d9hNRha1",
        "colab": {
          "base_uri": "https://localhost:8080/"
        },
        "outputId": "1400fcc2-97fb-4678-b848-54017b25400f"
      },
      "execution_count": null,
      "outputs": [
        {
          "output_type": "stream",
          "name": "stdout",
          "text": [
            "   param_C param_kernel  mean_test_score\n",
            "0        1          rbf         0.774764\n",
            "1        1       linear         0.778661\n",
            "2        5          rbf         0.774781\n",
            "3        5       linear         0.778661\n",
            "4       10          rbf         0.787794\n",
            "5       10       linear         0.778661\n",
            "6       20          rbf         0.794313\n",
            "7       20       linear         0.778661\n",
            "8       30          rbf         0.796910\n",
            "9       30       linear         0.778661\n",
            "10      50          rbf         0.803429\n",
            "11      50       linear         0.778661\n",
            "12     100          rbf         0.804736\n",
            "13     100       linear         0.778661\n"
          ]
        }
      ]
    },
    {
      "cell_type": "code",
      "source": [
        "print(df123[['param_C','param_kernel','mean_test_score']])\n"
      ],
      "metadata": {
        "id": "V9tTuKfFN-N6",
        "colab": {
          "base_uri": "https://localhost:8080/"
        },
        "outputId": "bb47765b-3495-460b-a5db-8f7513847f68"
      },
      "execution_count": null,
      "outputs": [
        {
          "output_type": "stream",
          "name": "stdout",
          "text": [
            "   param_C param_kernel  mean_test_score\n",
            "0        1          rbf         0.774764\n",
            "1        1       linear         0.778661\n",
            "2        5          rbf         0.774781\n",
            "3        5       linear         0.778661\n",
            "4       10          rbf         0.787794\n",
            "5       10       linear         0.778661\n",
            "6       20          rbf         0.794313\n",
            "7       20       linear         0.778661\n",
            "8       30          rbf         0.796910\n",
            "9       30       linear         0.778661\n",
            "10      50          rbf         0.803429\n",
            "11      50       linear         0.778661\n",
            "12     100          rbf         0.804736\n",
            "13     100       linear         0.778661\n"
          ]
        }
      ]
    },
    {
      "cell_type": "markdown",
      "source": [
        "**REGULARIZATION**\n",
        "\n",
        "As the Best Parameters are at index 12, however the index 10 has the same score with a far less C value. The \"C\" parameter controls the strength of the regularization. A smaller value of C corresponds to stronger regularization, while a larger value of C corresponds to weaker regularization.\n",
        "\n",
        "Hence we will use the parameters at index 12\n",
        "\n",
        "**SVC**\n",
        "\n",
        "\n"
      ],
      "metadata": {
        "id": "oi3LTN5rOuDh"
      }
    },
    {
      "cell_type": "code",
      "source": [
        "model = svm.SVC(C=50,kernel=\"rbf\")\n",
        "model.fit(X_train,Y_train)\n",
        "print(\" Model Score:\")\n",
        "print(model.score(x_test,y_test))\n",
        "predictions=model.predict(x_test)\n",
        "\n",
        "\n",
        "\n",
        "xg_model = xgb.XGBClassifier(base_model=model, n_estimators=10)\n",
        "xg_model.fit(X_train, Y_train)\n",
        "\n",
        "xg_score = xg_model.score(x_test, y_test)\n",
        "print(\"Boosted Model Score: {:.2f}\".format(xg_score))\n",
        "\n",
        "\n",
        "print(\"Confusion matrix\")\n",
        "cm = confusion_matrix(y_test, predictions)\n",
        "print(cm)"
      ],
      "metadata": {
        "id": "gkAPX0AYNTrH",
        "colab": {
          "base_uri": "https://localhost:8080/"
        },
        "outputId": "68e28bf7-0acb-46d6-b8b2-b4ce8f2f5948"
      },
      "execution_count": null,
      "outputs": [
        {
          "output_type": "stream",
          "name": "stdout",
          "text": [
            " Model Score:\n",
            "0.793939393939394\n",
            "Boosted Model Score: 0.82\n",
            "Confusion matrix\n",
            "[[134  34]\n",
            " [ 34 128]]\n"
          ]
        }
      ]
    },
    {
      "cell_type": "code",
      "source": [],
      "metadata": {
        "id": "gYLs_pIyVs3c"
      },
      "execution_count": null,
      "outputs": []
    },
    {
      "cell_type": "markdown",
      "source": [
        "**Results**\n",
        "\n",
        "Here we have predicted the survivors of the titanic dataset with 82% on the test data. This means that we used optimal techniques to fix the imbalance dataset problem,normalizations, missing data and above all the Classification Model.\n",
        "\n",
        "\n",
        "\n"
      ],
      "metadata": {
        "id": "3u-QSLk6VtQh"
      }
    }
  ]
}